{
 "cells": [
  {
   "cell_type": "code",
   "execution_count": 9,
   "metadata": {},
   "outputs": [],
   "source": [
    "from importlib import reload\n",
    "from langchain.memory import ConversationBufferMemory\n",
    "\n",
    "# 이후 제거 부분\n",
    "import chains3\n",
    "reload(chains3)\n",
    "\n",
    "from chains3 import chat_status_chain, chat_chain, chat_end_chain"
   ]
  },
  {
   "cell_type": "code",
   "execution_count": 5,
   "metadata": {},
   "outputs": [],
   "source": [
    "# 동작 확인에 사용할 함수\n",
    "\n",
    "def test(customer_message, memory):\n",
    "    result = chat_status_chain.invoke({'customer_message': customer_message, 'memory': memory}) \n",
    "    if result['conv_status'] == '대화 중':\n",
    "        print('대화 진행 여부 분류-> ', result['conv_status'])\n",
    "        print('-'*77)\n",
    "        response = chat_chain.invoke({'customer_message': customer_message, 'memory': memory})\n",
    "    else:\n",
    "        print('대화 진행 여부 분류-> ', result['conv_status'])\n",
    "        print('-'*77)\n",
    "        response = chat_end_chain.invoke({'customer_message': customer_message, 'memory': memory})\n",
    "    return response"
   ]
  },
  {
   "cell_type": "markdown",
   "metadata": {},
   "source": [
    "# gpt-3.5-turbo-0613 모델 사용 경우"
   ]
  },
  {
   "cell_type": "code",
   "execution_count": 10,
   "metadata": {},
   "outputs": [
    {
     "data": {
      "text/plain": [
       "{'history': []}"
      ]
     },
     "execution_count": 10,
     "metadata": {},
     "output_type": "execute_result"
    }
   ],
   "source": [
    "memory = ConversationBufferMemory(return_messages=True)\n",
    "memory.load_memory_variables({})"
   ]
  },
  {
   "cell_type": "code",
   "execution_count": 11,
   "metadata": {},
   "outputs": [
    {
     "name": "stdout",
     "output_type": "stream",
     "text": [
      "대화 진행 여부 분류->  대화 중\n",
      "-----------------------------------------------------------------------------\n",
      "저희 가게에서는 다양한 상품을 판매하고 있습니다. 상품 목록을 알려드릴게요.\n",
      "\n",
      "1. 떡케익5호: 기본 판매 단위는 1개이고, 가격은 54,000원입니다.\n",
      "2. 무지개 백설기 케익: 기본 판매 단위는 1개이고, 가격은 51,500원입니다.\n",
      "3. 미니 백설기: 기본 판매 단위는 1세트(35개)이고, 가격은 31,500원입니다.\n",
      "4. 개별 모듬팩: 기본 판매 단위는 1개이고, 가격은 13,500원입니다.\n",
      "\n",
      "원하시는 상품이 있으시면 말씀해주세요! 2023-11-09 10:56:47\n"
     ]
    }
   ],
   "source": [
    "customer_message = '판매 제품 뭐 있나요?'\n",
    "response = test(customer_message, memory)\n",
    "print(response)"
   ]
  },
  {
   "cell_type": "code",
   "execution_count": 12,
   "metadata": {},
   "outputs": [
    {
     "name": "stdout",
     "output_type": "stream",
     "text": [
      "대화 진행 여부 분류->  대화 중\n",
      "-----------------------------------------------------------------------------\n",
      "1. 고객이 요청한 작업:\n",
      "고객이 요청한 작업은 '개별 모듬팩 2개와 미니 백설기 1세트'를 구매하는 것입니다.\n",
      "\n",
      "2. 고객이 요청한 작업과 관련된 주문 내역:\n",
      "고객이 요청한 작업과 관련된 주문 내역은 다음과 같습니다.\n",
      "- 개별 모듬팩: 기본 판매 단위는 1개이고, 가격은 13,500원입니다. 따라서 개별 모듬팩 2개를 구매하면 가격은 27,000원입니다.\n",
      "- 미니 백설기: 기본 판매 단위는 1세트(35개)이고, 가격은 31,500원입니다. 따라서 미니 백설기 1세트를 구매하면 가격은 31,500원입니다.\n",
      "\n",
      "따라서, 개별 모듬팩 2개와 미니 백설기 1세트를 함께 구매하면 총 가격은 58,500원입니다.\n",
      "\n",
      "이전 대화 내용과 고객이 요청한 작업을 종합적으로 고려하여 위와 같은 답변을 드릴 수 있습니다. 추가적인 문의사항이 있으면 언제든지 말씀해주세요. 2023-11-09 10:59:27\n"
     ]
    }
   ],
   "source": [
    "customer_message = '개별 모듬팩2, 미니백설기1 하면 얼마인가요?'\n",
    "response = test(customer_message, memory)\n",
    "print(response)"
   ]
  },
  {
   "cell_type": "code",
   "execution_count": 13,
   "metadata": {},
   "outputs": [
    {
     "name": "stdout",
     "output_type": "stream",
     "text": [
      "대화 진행 여부 분류->  대화 종료\n",
      "-----------------------------------------------------------------------------\n",
      "주문 내역: 개별 모듬팩(13,500원) 2개, 총 주문 가격: 27,000원\n",
      "\n",
      "주문해주셔서 감사합니다! 언제든지 다른 문의나 주문이 있으시면 말씀해주세요. 2023-11-09 11:00:44\n"
     ]
    }
   ],
   "source": [
    "# 대화 종료로 판단하면 안되는데 대화 종료로 판단\n",
    "\n",
    "customer_message = '개별 모듬팩2만 주문할게요'\n",
    "response = test(customer_message, memory)\n",
    "print(response)"
   ]
  },
  {
   "cell_type": "code",
   "execution_count": 14,
   "metadata": {},
   "outputs": [
    {
     "name": "stdout",
     "output_type": "stream",
     "text": [
      "대화 진행 여부 분류->  대화 종료\n",
      "-----------------------------------------------------------------------------\n",
      "주문 내역: 개별 모듬팩(13,500원) 1개, 총 주문 가격: 13,500원\n",
      "\n",
      "주문 취소해주셔서 감사합니다! 언제든지 다른 문의나 주문이 있으시면 말씀해주세요. 2023-11-09 11:03:10\n"
     ]
    }
   ],
   "source": [
    "# 대화 종료로 판단하면 안되는데 대화 종료로 판단\n",
    "\n",
    "customer_message = '개별 모듬팩 1개는 취소할게요'\n",
    "response = test(customer_message, memory)\n",
    "print(response)"
   ]
  },
  {
   "cell_type": "code",
   "execution_count": 15,
   "metadata": {},
   "outputs": [
    {
     "name": "stdout",
     "output_type": "stream",
     "text": [
      "대화 진행 여부 분류->  대화 중\n",
      "-----------------------------------------------------------------------------\n",
      "1. 고객이 요청한 작업:\n",
      "고객이 요청한 작업은 '떡케익 추가 주문'입니다.\n",
      "\n",
      "2. 고객이 요청한 작업과 관련된 주문 내역:\n",
      "고객이 요청한 작업과 관련된 주문 내역은 다음과 같습니다.\n",
      "- 떡케익5호: 기본 판매 단위는 1개이고, 가격은 54,000원입니다.\n",
      "\n",
      "따라서, 떡케익을 추가 주문하시면 가격은 54,000원입니다.\n",
      "\n",
      "이전 대화 내용과 고객이 요청한 작업을 종합적으로 고려하여 위와 같은 답변을 드릴 수 있습니다. 추가적인 문의사항이 있으면 언제든지 말씀해주세요. 2023-11-09 11:13:33\n"
     ]
    }
   ],
   "source": [
    "customer_message = '떡케익 추가 주문할게요'\n",
    "response = test(customer_message, memory)\n",
    "print(response)"
   ]
  },
  {
   "cell_type": "code",
   "execution_count": 16,
   "metadata": {},
   "outputs": [
    {
     "name": "stdout",
     "output_type": "stream",
     "text": [
      "대화 진행 여부 분류->  대화 종료\n",
      "-----------------------------------------------------------------------------\n"
     ]
    }
   ],
   "source": [
    "# 답변 생성 실패\n",
    "\n",
    "customer_message = '그럼 제 주문 총 가격이 어떻게 되죠?'\n",
    "response = test(customer_message, memory)\n",
    "print(response)"
   ]
  },
  {
   "cell_type": "markdown",
   "metadata": {},
   "source": [
    "# gpt-4-1106-preview 모델 사용 경우"
   ]
  },
  {
   "cell_type": "code",
   "execution_count": 2,
   "metadata": {},
   "outputs": [
    {
     "data": {
      "text/plain": [
       "{'history': []}"
      ]
     },
     "execution_count": 2,
     "metadata": {},
     "output_type": "execute_result"
    }
   ],
   "source": [
    "memory = ConversationBufferMemory(return_messages=True)\n",
    "memory.load_memory_variables({})"
   ]
  },
  {
   "cell_type": "code",
   "execution_count": 3,
   "metadata": {},
   "outputs": [
    {
     "name": "stdout",
     "output_type": "stream",
     "text": [
      "대화 진행 여부 분류->  대화 중\n",
      "-----------------------------------------------------------------------------\n",
      "안녕하세요! 저희 가게에서 판매 중인 상품에 대해 안내해 드리겠습니다.\n",
      "\n",
      "1. 상품명: 떡케익5호\n",
      "   기본 판매 단위: 1개\n",
      "   기본 판매 단위의 가격: 54,000원\n",
      "\n",
      "2. 상품명: 무지개 백설기 케익\n",
      "   기본 판매 단위: 1개\n",
      "   기본 판매 단위의 가격: 51,500원\n",
      "\n",
      "3. 상품명: 미니 백설기\n",
      "   기본 판매 단위: 1세트(35개)\n",
      "   기본 판매 단위의 가격: 31,500원\n",
      "\n",
      "4. 상품명: 개별 모듬팩\n",
      "   기본 판매 단위: 1개\n",
      "   기본 판매 단위의 가격: 13,500원\n",
      "\n",
      "위의 상품들 중에서 마음에 드는 것이 있으시면 말씀해 주세요. 추가로 궁금하신 점이 있으시다면 언제든지 질문해 주시기 바랍니다. 2023-11-09 10:42:45\n"
     ]
    }
   ],
   "source": [
    "customer_message = '판매상품 좀 알려주세요'\n",
    "response = test(customer_message, memory)\n",
    "print(response)"
   ]
  },
  {
   "cell_type": "code",
   "execution_count": 4,
   "metadata": {},
   "outputs": [
    {
     "name": "stdout",
     "output_type": "stream",
     "text": [
      "대화 진행 여부 분류->  대화 중\n",
      "-----------------------------------------------------------------------------\n",
      "떡케익5호, 무지개 백설기 케익, 그리고 미니 백설기에 대한 주문을 해주셨군요! 각각의 상품 가격과 주문 수량을 기준으로 총 주문 가격을 계산해 드리겠습니다.\n",
      "\n",
      "- 떡케익5호: 54,000원(총 1개)\n",
      "- 무지개 백설기 케익: 51,500원(총 2개) -> 51,500원 x 2 = 103,000원\n",
      "- 미니 백설기: 31,500원(총 3세트) -> 31,500원 x 3 = 94,500원\n",
      "\n",
      "총 주문 가격은 다음과 같습니다:\n",
      "54,000원 + 103,000원 + 94,500원 = 251,500원\n",
      "\n",
      "주문하신 상품들에 대한 총 주문 가격은 251,500원입니다. 주문을 확정하시려면 추가로 필요한 정보(배송 주소, 연락처 등)를 알려주시면 주문을 도와드리겠습니다. 2023-11-09 10:43:34\n"
     ]
    }
   ],
   "source": [
    "customer_message = '떡케익1, 무지개백설기2, 미니백설기3 하면 얼마죠'\n",
    "response = test(customer_message, memory)\n",
    "print(response)"
   ]
  },
  {
   "cell_type": "code",
   "execution_count": 6,
   "metadata": {},
   "outputs": [
    {
     "name": "stdout",
     "output_type": "stream",
     "text": [
      "대화 진행 여부 분류->  대화 중\n",
      "-----------------------------------------------------------------------------\n",
      "고객님께서는 무지개 백설기 케익 한 개만 제외하고 기존에 요청하셨던 주문을 그대로 진행하시길 원하셨습니다. 이에 따라 수정된 주문 내역은 다음과 같습니다:\n",
      "\n",
      "1. 떡케익5호: 54,000원 (총 1개)\n",
      "2. 무지개 백설기 케익: 51,500원 (총 1개) (이전 수량 2개에서 1개로 변경)\n",
      "3. 미니 백설기: 31,500원 (총 3세트)\n",
      "\n",
      "수정된 총 주문 가격은 다음과 같이 계산됩니다:\n",
      "54,000원 (떡케익5호) + 51,500원 (무지개 백설기 케익) + 94,500원 (미니 백설기) = 200,000원\n",
      "\n",
      "따라서 고객님의 최종 주문 금액은 200,000원입니다. 주문을 확정하시려면 고객님의 배송 주소와 연락처 등 추가로 필요한 정보를 알려주시면 주문 절차를 도와드리겠습니다. 주문 날짜 및 시간은 2023년 11월 9일 10:43:34로 기록되었습니다.\n",
      "\n",
      "주문 내역에 대해 더 궁금한 점이 있으시거나 추가적인 요청 사항이 있으시면 언제든지 문의 주세요. 친절하게 안내해 드리겠습니다. 2023-11-09 10:47:55\n"
     ]
    }
   ],
   "source": [
    "customer_message = '무지개 백설기1나만 빼고 나머지는 그대로 주문할게요'\n",
    "response = test(customer_message, memory)\n",
    "print(response)"
   ]
  },
  {
   "cell_type": "code",
   "execution_count": 7,
   "metadata": {},
   "outputs": [
    {
     "name": "stdout",
     "output_type": "stream",
     "text": [
      "대화 진행 여부 분류->  대화 중\n",
      "-----------------------------------------------------------------------------\n",
      "안녕하세요, 고객님.\n",
      "\n",
      "고객님께서 요청하신 작업에 대한 안내를 드리겠습니다.\n",
      "\n",
      "1. 고객님이 요청하신 작업은 떡케익5호 1개의 주문 취소입니다.\n",
      "\n",
      "2. 이전 대화 기록을 바탕으로, 고객님께서 원래 주문하셨던 상품은 떡케익5호 1개 (54,000원), 무지개 백설기 케익 1개 (51,500원), 미니 백설기 3세트 (31,500원 x 3 = 94,500원)로 총 주문 금액은 200,000원이었습니다.\n",
      "\n",
      "3. 고객님의 현재 요청(떡케익 취소)에 따라 새로운 주문 내역과 금액은 다음과 같습니다:\n",
      "   - 무지개 백설기 케익: 51,500원 (총 1개)\n",
      "   - 미니 백설기: 31,500원 (총 3세트) -> 94,500원\n",
      "   따라서 수정된 총 주문 금액은 51,500원 + 94,500원 = 146,000원입니다.\n",
      "\n",
      "주문 취소 및 변경이 정상적으로 반영되었습니다. 최종 주문 금액은 146,000원이며, 주문 날짜 및 시간은 2023년 11월 9일 10:47:55로 기록되어 있습니다.\n",
      "\n",
      "주문 내역에 대해 추가적인 변경이나 궁금한 점이 있으시면 언제든지 말씀해 주시기 바랍니다. 고객님의 만족을 위해 성실히 도와드리겠습니다.\n",
      "\n",
      "감사합니다. 2023-11-09 10:52:16\n"
     ]
    }
   ],
   "source": [
    "customer_message = '떡케익은 취소할게요'\n",
    "response = test(customer_message, memory)\n",
    "print(response)"
   ]
  },
  {
   "cell_type": "code",
   "execution_count": 8,
   "metadata": {},
   "outputs": [
    {
     "name": "stdout",
     "output_type": "stream",
     "text": [
      "대화 진행 여부 분류->  대화 중\n",
      "-----------------------------------------------------------------------------\n",
      "안녕하세요! 고객님의 요청에 따라 답변 드리겠습니다.\n",
      "\n",
      "1. 고객님께서 요청하신 작업은 이전에 취소하신 떡케익5호를 다시 주문하고자 하시는 것으로 이해됩니다.\n",
      "\n",
      "2. 고객님께서 이전에 요청하신 주문 내역은 다음과 같습니다.\n",
      "   - 무지개 백설기 케익: 51,500원 (총 1개)\n",
      "   - 미니 백설기: 31,500원 (총 3세트) -> 각 세트당 가격은 31,500원으로, 3세트의 총 가격은 94,500원입니다.\n",
      "   이에 따라 총 주문 금액은 51,500원 + 94,500원 = 146,000원이었습니다.\n",
      "\n",
      "3. 고객님의 새로운 요청인 떡케익5호를 다시 주문하신다면, 다음과 같은 수정된 주문 내역과 금액이 됩니다:\n",
      "   - 떡케익5호: 54,000원 (총 1개)\n",
      "   - 무지개 백설기 케익: 51,500원 (총 1개)\n",
      "   - 미니 백설기: 31,500원 (총 3세트) -> 총 94,500원\n",
      "   따라서 수정된 총 주문 금액은 54,000원 + 51,500원 + 94,500원 = 200,000원입니다.\n",
      "\n",
      "고객님의 떡케익5호 재주문이 성공적으로 반영되었습니다. 최종 주문 금액은 200,000원이며, 주문 날짜 및 시간은 2023년 11월 9일 10:52:16으로 기록될 예정입니다.\n",
      "\n",
      "주문 내역에 대하여 더 궁금하신 점이나 추가적인 요청 사항이 있으시다면 언제든지 문의해 주세요. 고객님의 만족을 위해 최선을 다해 도와드리겠습니다.\n",
      "\n",
      "감사합니다. 2023-11-09 10:54:10\n"
     ]
    }
   ],
   "source": [
    "customer_message = '죄송한데 떡케익 다시 주문할게요'\n",
    "response = test(customer_message, memory)\n",
    "print(response)"
   ]
  }
 ],
 "metadata": {
  "kernelspec": {
   "display_name": "assistant",
   "language": "python",
   "name": "python3"
  },
  "language_info": {
   "codemirror_mode": {
    "name": "ipython",
    "version": 3
   },
   "file_extension": ".py",
   "mimetype": "text/x-python",
   "name": "python",
   "nbconvert_exporter": "python",
   "pygments_lexer": "ipython3",
   "version": "3.8.17"
  }
 },
 "nbformat": 4,
 "nbformat_minor": 2
}
